{
 "cells": [
  {
   "cell_type": "code",
   "execution_count": 1,
   "id": "86c95004",
   "metadata": {},
   "outputs": [],
   "source": [
    "import requests\n",
    "import json\n",
    "\n",
    "import pandas as pd\n",
    "\n",
    "from selectolax.parser import HTMLParser\n",
    "from typing import *\n",
    "from tqdm import tqdm\n",
    "from w3lib.html import remove_tags"
   ]
  },
  {
   "cell_type": "code",
   "execution_count": 2,
   "id": "a5c0ab75",
   "metadata": {},
   "outputs": [],
   "source": [
    "def parse_header(raw_header: str):\n",
    "    header = dict()\n",
    "    for line in raw_header.split(\"\\n\"):\n",
    "        if line.startswith(\":\"):\n",
    "            a, b = line[1:].split(\":\", 1)\n",
    "            a = f\":{a}\"\n",
    "        else:\n",
    "            a, b = line.split(\":\",1)\n",
    "        header[a.strip()] = b.strip()\n",
    "    return header"
   ]
  },
  {
   "cell_type": "code",
   "execution_count": 3,
   "id": "c9a144aa",
   "metadata": {},
   "outputs": [],
   "source": [
    "header_str = \"\"\"accept: application/json, text/plain, */*\n",
    "accept-encoding: gzip, deflate, br\n",
    "accept-language: ru-RU,ru;q=0.9,en-US;q=0.8,en;q=0.7\n",
    "content-length: 193\n",
    "content-type: application/json;charset=UTF-8\n",
    "origin: https://ces.hse.ru\n",
    "referer: https://ces.hse.ru/\n",
    "sec-ch-ua: \"Google Chrome\";v=\"111\", \"Not(A:Brand\";v=\"8\", \"Chromium\";v=\"111\"\n",
    "sec-ch-ua-mobile: ?0\n",
    "sec-ch-ua-platform: \"macOS\"\n",
    "sec-fetch-dest: empty\n",
    "sec-fetch-mode: cors\n",
    "sec-fetch-site: same-site\n",
    "user-agent: Mozilla/5.0 (Macintosh; Intel Mac OS X 10_15_7) AppleWebKit/537.36 (KHTML, like Gecko) Chrome/111.0.0.0 Safari/537.36\"\"\""
   ]
  },
  {
   "cell_type": "code",
   "execution_count": 4,
   "id": "43fe8054",
   "metadata": {},
   "outputs": [],
   "source": [
    "headers = parse_header(header_str)"
   ]
  },
  {
   "cell_type": "code",
   "execution_count": 5,
   "id": "404ba78c",
   "metadata": {},
   "outputs": [],
   "source": [
    "class HSEPublish:\n",
    "    \n",
    "    def __init__(self, headers):\n",
    "        self.headers = headers\n",
    "    \n",
    "    def update_data(self, pageId: int) -> None:\n",
    "        self.data = json.dumps({\n",
    "            \"type\": \"ANY\",\n",
    "            \"filterParams\": \"\\\"acceptLanguage\\\":\\\"ru\\\"|\\\"pubsUnit\\\": 38477612|\\\"widgetName\\\": \\\"Search\\\"\",\n",
    "            \"paginationParams\": {\n",
    "                \"publsSort\": [\"YEAR_DESC\",\"TITLE_ASC\"],\n",
    "                \"publsCount\": 21,\n",
    "                \"pageId\": pageId\n",
    "            }\n",
    "        })\n",
    "    \n",
    "    def post_request(self) -> dict:\n",
    "        resp = requests.post(\n",
    "            \"https://publications.hse.ru/api/searchPubs\",\n",
    "            data=self.data,\n",
    "            headers=self.headers\n",
    "        ).json()\n",
    "        return resp\n",
    "    \n",
    "    def parse_publications(self) -> List[Dict[str, Any]]:\n",
    "        json_data = []\n",
    "        page_count = 1\n",
    "        \n",
    "        while True:\n",
    "            \n",
    "            self.update_data(page_count)\n",
    "            resp = self.post_request()\n",
    "            \n",
    "            for item in resp[\"result\"][\"items\"]:\n",
    "                \n",
    "                data = {\n",
    "                    \"title\": item[\"title\"],\n",
    "                    \"type\": item[\"type\"],\n",
    "                    \"year\": item[\"year\"]\n",
    "                }\n",
    "                \n",
    "                if \"en\" in item[\"annotation\"]:\n",
    "                    data[\"description\"] = item[\"annotation\"][\"en\"]\n",
    "                else:\n",
    "                    if \"ru\" in item[\"annotation\"]:\n",
    "                        data[\"description\"] = item[\"annotation\"][\"ru\"]\n",
    "                    else:\n",
    "                        data[\"decription\"] = None\n",
    "                \n",
    "                if (authors:=item[\"authorsByType\"][\"author\"]):\n",
    "                    data[\"authors\"] = [author[\"title\"][\"ru\"] for author in authors]\n",
    "                else:\n",
    "                    data[\"authors\"] = []\n",
    "                    \n",
    "                json_data.append(data)\n",
    "                \n",
    "            page_count += 1\n",
    "            \n",
    "            if resp[\"result\"][\"remaining\"] == 0:\n",
    "                break\n",
    "                \n",
    "        return json_data"
   ]
  },
  {
   "cell_type": "code",
   "execution_count": 6,
   "id": "33e668d5",
   "metadata": {},
   "outputs": [],
   "source": [
    "hse = HSEPublish(headers)\n",
    "data = hse.parse_publications()"
   ]
  },
  {
   "cell_type": "code",
   "execution_count": 7,
   "id": "6c111760",
   "metadata": {},
   "outputs": [],
   "source": [
    "with open(\"data.json\", \"w\") as file:\n",
    "    json.dump(data, file)"
   ]
  },
  {
   "cell_type": "code",
   "execution_count": 8,
   "id": "4a93f1e3",
   "metadata": {},
   "outputs": [],
   "source": [
    "df = pd.read_json(\"data.json\")"
   ]
  },
  {
   "cell_type": "code",
   "execution_count": 9,
   "id": "8f00fa8c",
   "metadata": {},
   "outputs": [],
   "source": [
    "def clear_description(value):\n",
    "    if value:\n",
    "        return remove_tags(value)\n",
    "    return "
   ]
  },
  {
   "cell_type": "code",
   "execution_count": 10,
   "id": "39badc59",
   "metadata": {},
   "outputs": [],
   "source": [
    "df.description = df.description.apply(clear_description)"
   ]
  },
  {
   "cell_type": "code",
   "execution_count": 11,
   "id": "1f975edd",
   "metadata": {},
   "outputs": [],
   "source": [
    "df.to_csv(\"publications.csv\", index=False)"
   ]
  }
 ],
 "metadata": {
  "kernelspec": {
   "display_name": "Python 3 (ipykernel)",
   "language": "python",
   "name": "python3"
  },
  "language_info": {
   "codemirror_mode": {
    "name": "ipython",
    "version": 3
   },
   "file_extension": ".py",
   "mimetype": "text/x-python",
   "name": "python",
   "nbconvert_exporter": "python",
   "pygments_lexer": "ipython3",
   "version": "3.11.0"
  }
 },
 "nbformat": 4,
 "nbformat_minor": 5
}
